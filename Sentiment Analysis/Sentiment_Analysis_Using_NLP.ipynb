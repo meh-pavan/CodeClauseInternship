{
  "nbformat": 4,
  "nbformat_minor": 0,
  "metadata": {
    "colab": {
      "provenance": []
    },
    "kernelspec": {
      "name": "python3",
      "display_name": "Python 3"
    },
    "language_info": {
      "name": "python"
    }
  },
  "cells": [
    {
      "cell_type": "code",
      "source": [
        "\n",
        "from textblob import TextBlob\n",
        "\n",
        "def analyze_sentiment(text):\n",
        "    blob = TextBlob(text)\n",
        "\n",
        "    sentiment = blob.sentiment.polarity\n",
        "\n",
        "    if sentiment > 0:\n",
        "        return \"Positive Sentiment\"\n",
        "    elif sentiment < 0:\n",
        "        return \"Negative Sentiment\"\n",
        "    else:\n",
        "        return \"Neutral Sentiment\"\n",
        "\n",
        "text = input(\"Enter a sentence for sentiment analysis: \")\n",
        "\n",
        "result = analyze_sentiment(text)\n",
        "print(f\"Sentiment: {result}\")\n"
      ],
      "metadata": {
        "colab": {
          "base_uri": "https://localhost:8080/"
        },
        "id": "zr2Qng6RGZa7",
        "outputId": "9639d97f-b49e-4a2f-de4c-2eea2457fb6b"
      },
      "execution_count": 1,
      "outputs": [
        {
          "output_type": "stream",
          "name": "stdout",
          "text": [
            "Enter a sentence for sentiment analysis: I watched a nice movies\n",
            "Sentiment: Positive Sentiment\n"
          ]
        }
      ]
    },
    {
      "cell_type": "code",
      "source": [],
      "metadata": {
        "id": "H1M5tF7D1Vyz"
      },
      "execution_count": null,
      "outputs": []
    }
  ]
}